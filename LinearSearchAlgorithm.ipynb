{
 "cells": [
  {
   "cell_type": "markdown",
   "metadata": {},
   "source": [
    "# Linear Search Algorithm\n",
    "\n",
    "[Linear Search Algorithm Video](https://www.youtube.com/watch?v=_HRA37X8N_Q&list=PL9gnSGHSqcnr_DxHsP7AW9ftq0AtAyYqJ&index=13&ab_channel=KunalKushwaha/)\n",
    "\n",
    "Linear search is a basic algorithm.\n",
    "\n",
    "It is simmply a for loop in which we look for object in each index and terminate loop once we find it.\n"
   ]
  },
  {
   "cell_type": "markdown",
   "metadata": {},
   "source": [
    "### Q: Find if 14 exist in the array."
   ]
  },
  {
   "cell_type": "code",
   "execution_count": 1,
   "metadata": {},
   "outputs": [
    {
     "name": "stdout",
     "output_type": "stream",
     "text": [
      "index:3\n"
     ]
    }
   ],
   "source": [
    "def linearSearch(arr:list[int],x:int):\n",
    "    for i in range(len(arr)):\n",
    "        if arr[i]==x:\n",
    "            return f'index:{i}'\n",
    "            \n",
    "    return f'index:-1'\n",
    "\n",
    "arr = [18,12,9,14,77,50]  \n",
    "x = 14\n",
    "print(linearSearch(arr,x))"
   ]
  },
  {
   "cell_type": "markdown",
   "metadata": {},
   "source": [
    "## Time Complexity\n",
    "\n",
    "How time will grow as input will grow.\n",
    "\n",
    "#### Best: O(1) \n",
    "**explanation:** Best case in this scenario is when element which we are searching for will be at 0th index. So computer will perform only one comparison. So despite the size of the array only one comparison will give us our result.\n",
    "\n",
    "eg.\n",
    "\n",
    "```\n",
    "arr1 = [18, 12, 9, 7, .... , 200 elements] \n",
    "x = 18\n",
    "linearSearch(arr1,x) ==> index:0 \n",
    "```\n",
    "\n",
    "```\n",
    "arr2 = [18, 2, 42, 97, .... , 200000000 elements] \n",
    "x = 18\n",
    "linearSearch(arr2,x) ==> index:0\n",
    "```\n",
    "In both case on first comparisson we found our answer so it took same time for both list to execute program dispite of thier size diffrence.\n",
    "\n",
    "#### Worst: O(n) \n",
    "**explanation:** Worst case is we do not find the item in the array. In this case computer will make comparison with each element in index so loop will run till the end.  \n",
    "\n",
    "eg.\n",
    "\n",
    "```\n",
    "arr1 = [12, 9, 7, .... , 200 elements] \n",
    "x = 18\n",
    "linearSearch(arr1,x) ==> index:-1\n",
    "```\n",
    "\n",
    "```\n",
    "arr2 = [2, 42, 97, .... , 200000000 elements] \n",
    "x = 18\n",
    "linearSearch(arr2,x) ==> index:-1\n",
    "```\n",
    "In case 1 Program will run till all 200 elements are cheked still it will not found given element. That means it will run for 200 itteration so its time complexity will be O(200).\n",
    "\n",
    "Same for case 2 but it will take more time than case 1 as there are 200000000 elements in this array.Hence its time complexity will be 0(200000000).\n",
    "\n",
    "so to generalized this **Linear search algorithm has O(n) worst case time complexity.**"
   ]
  },
  {
   "cell_type": "markdown",
   "metadata": {},
   "source": [
    "## Character in String"
   ]
  },
  {
   "cell_type": "code",
   "execution_count": 2,
   "metadata": {},
   "outputs": [
    {
     "name": "stdout",
     "output_type": "stream",
     "text": [
      "index:7\n"
     ]
    }
   ],
   "source": [
    "\n",
    "\n",
    "name = 'Tanmay Suhas Jagtap'\n",
    "character = 'S'\n",
    "\n",
    "print(linearSearch(name,character))\n"
   ]
  },
  {
   "cell_type": "code",
   "execution_count": null,
   "metadata": {},
   "outputs": [],
   "source": []
  }
 ],
 "metadata": {
  "kernelspec": {
   "display_name": "base",
   "language": "python",
   "name": "python3"
  },
  "language_info": {
   "codemirror_mode": {
    "name": "ipython",
    "version": 3
   },
   "file_extension": ".py",
   "mimetype": "text/x-python",
   "name": "python",
   "nbconvert_exporter": "python",
   "pygments_lexer": "ipython3",
   "version": "3.11.5"
  }
 },
 "nbformat": 4,
 "nbformat_minor": 2
}
